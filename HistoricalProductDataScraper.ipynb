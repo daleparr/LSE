{
 "cells": [
  {
   "cell_type": "code",
   "execution_count": 1,
   "metadata": {},
   "outputs": [],
   "source": [
    "import requests\n",
    "from bs4 import BeautifulSoup\n",
    "import psycopg2\n",
    "import os\n",
    "from datetime import datetime\n",
    "from dateutil.rrule import rrule, MONTHLY\n",
    "import re\n",
    "import time\n",
    "import random\n",
    "import logging\n",
    "\n",
    "# Setup logging\n",
    "logging.basicConfig(level=logging.INFO, format='%(asctime)s - %(levelname)s - %(message)s')"
   ]
  },
  {
   "cell_type": "code",
   "execution_count": 2,
   "metadata": {},
   "outputs": [],
   "source": [
    "def connect_db():\n",
    "    \"\"\"Establish database connection using psycopg2.\"\"\"\n",
    "    try:\n",
    "        return psycopg2.connect(\n",
    "            dbname=\"postgres\",\n",
    "            user=\"postgres\",\n",
    "            password=os.getenv(\"DB_PASSWORD\"),\n",
    "            host=\"localhost\"\n",
    "        )\n",
    "    except psycopg2.Error as e:\n",
    "        logging.error(\"Failed to connect to the database: %s\", e)\n",
    "        return None"
   ]
  },
  {
   "cell_type": "code",
   "execution_count": 3,
   "metadata": {},
   "outputs": [],
   "source": [
    "def extract_unique_id_from_url(url):\n",
    "    \"\"\" Extract a unique product identifier from the URL. \"\"\"\n",
    "    match = re.search(r'/(\\d+)[^/]*$', url)\n",
    "    if match:\n",
    "        return match.group(1)\n",
    "    else:\n",
    "        logging.error(\"Failed to extract product ID from URL: %s\", url)\n",
    "        return None"
   ]
  },
  {
   "cell_type": "code",
   "execution_count": 4,
   "metadata": {},
   "outputs": [],
   "source": [
    "def get_headers():\n",
    "    \"\"\" Return headers with a randomly selected user agent. \"\"\"\n",
    "    user_agents = [\n",
    "        \"Mozilla/5.0 (Windows NT 10.0; Win64; x64) AppleWebKit/537.36 (KHTML, like Gecko) Chrome/124.0.0.0 Safari/537.36\",\n",
    "        \"Mozilla/5.0 (Macintosh; Intel Mac OS X 10_15_7) AppleWebKit/605.1.15 (KHTML, like Gecko) Version/14.1.2 Safari/605.1.15\",\n",
    "        \"Mozilla/5.0 (Windows NT 10.0; WOW64; Trident/7.0; rv:11.0) like Gecko\",\n",
    "        \"Mozilla/5.0 (Linux; Android 10; SM-A505FN) AppleWebKit/537.36 (KHTML, like Gecko) Chrome/96.0.4664.45 Mobile Safari/537.36\"\n",
    "    ]\n",
    "    return {'User-Agent': random.choice(user_agents)}"
   ]
  },
  {
   "cell_type": "code",
   "execution_count": 5,
   "metadata": {},
   "outputs": [],
   "source": [
    "def make_request(url, retries=5, backoff_factor=1):\n",
    "    \"\"\" Make HTTP requests with retries and exponential backoff. \"\"\"\n",
    "    with requests.Session() as session:\n",
    "        for attempt in range(retries):\n",
    "            headers = get_headers()\n",
    "            try:\n",
    "                response = session.get(url, headers=headers, timeout=10)\n",
    "                response.raise_for_status()\n",
    "                return response\n",
    "            except requests.exceptions.RequestException as e:\n",
    "                wait_time = backoff_factor * (2 ** attempt)\n",
    "                logging.error(\"Request failed: %s. Retrying in %d seconds.\", e, wait_time)\n",
    "                time.sleep(wait_time)\n",
    "        return None"
   ]
  },
  {
   "cell_type": "code",
   "execution_count": null,
   "metadata": {},
   "outputs": [],
   "source": [
    "def main():\n",
    "    logging.info(\"Starting the script...\")\n",
    "    conn = connect_db()\n",
    "    if not conn:\n",
    "        logging.error(\"Exiting due to database connection failure.\")\n",
    "        return\n",
    "    logging.info(\"Database connection successful.\")\n",
    "\n",
    "    base_url = \"https://web.archive.org/web/20190201183701/https://www.luisaviaroma.com/en-gb/\"\n",
    "    logging.info(\"Base URL: %s\", base_url)\n",
    "    start_date = datetime(2019, 2, 1)\n",
    "    end_date = datetime(2024, 6, 30)\n",
    "    dates = rrule(MONTHLY, dtstart=start_date, until=end_date)\n",
    "    logging.info(\"Dates to process: %s\", list(dates))\n",
    "\n",
    "    for date in dates:\n",
    "        logging.info(\"Processing date: %s\", date)\n",
    "        response = make_request(base_url)\n",
    "        if response:\n",
    "            logging.info(\"Request successful for date: %s\", date)\n",
    "            soup = BeautifulSoup(response.text, 'html.parser')\n",
    "            # Implement your specific data extraction logic here\n",
    "            logging.info(\"Data processed for date: %s\", date)\n",
    "        else:\n",
    "            logging.error(\"Failed to make a request for date: %s\", date)\n",
    "        time.sleep(random.randint(10, 60))  # Adjust timing based on scraping policy\n",
    "\n",
    "    conn.close()\n",
    "    logging.info(\"Database connection closed.\")\n",
    "\n",
    "#Uncomment the following line to run the function if needed in the PCI for testing purposes\n",
    "main()"
   ]
  }
 ],
 "metadata": {
  "kernelspec": {
   "display_name": "Python 3",
   "language": "python",
   "name": "python3"
  },
  "language_info": {
   "codemirror_mode": {
    "name": "ipython",
    "version": 3
   },
   "file_extension": ".py",
   "mimetype": "text/x-python",
   "name": "python",
   "nbconvert_exporter": "python",
   "pygments_lexer": "ipython3",
   "version": "3.12.1"
  }
 },
 "nbformat": 4,
 "nbformat_minor": 2
}
