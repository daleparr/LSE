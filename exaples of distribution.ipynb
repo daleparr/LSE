{
 "cells": [
  {
   "cell_type": "code",
   "execution_count": 2,
   "metadata": {},
   "outputs": [
    {
     "name": "stdout",
     "output_type": "stream",
     "text": [
      "Sales:  [28]\n",
      "Complaints:  [2 5 1 5 0 1 0]\n",
      "Arrival Times:  [ 1.7559933   1.23198474  6.04704421  5.74395261 11.23595431 29.91737306\n",
      "  3.17211158  0.65862781  1.94422891 24.14911509]\n",
      "Daily Revenue:  [3810.61880157 3232.59293135 2102.07112063 3539.85150172 2776.90113726\n",
      " 2692.57444167 2836.88043524 3334.12916291 3409.73053628 3016.21555898\n",
      " 3479.85342953 3717.4026493  3136.36240997 2797.31231509 2829.95830717\n",
      " 2698.23702452 3371.35730206 3270.54854167 2331.11608448 2979.29746703\n",
      " 2801.71589793 3298.53957411 2639.86798698 2746.98658519 2946.36536616\n",
      " 2550.41110667 3659.60003063 1874.51683348 2545.6129978  2583.13575695]\n"
     ]
    }
   ],
   "source": [
    "\n",
    "import numpy as np\n",
    "\n",
    "# Binomial: Number of successful sales out of 100 visits\n",
    "sales = np.random.binomial(100, 0.30, size=1)\n",
    "\n",
    "# Poisson: Customer complaints per day over a week\n",
    "complaints = np.random.poisson(2, size=7)\n",
    "\n",
    "# Exponential: Time between customer arrivals, 10 customers\n",
    "arrival_times = np.random.exponential(scale=12, size=10)\n",
    "\n",
    "# Normal: Daily revenue for a month\n",
    "daily_revenue = np.random.normal(3000, 500, size=30)\n",
    "\n",
    "print(\"Sales: \", sales)\n",
    "print(\"Complaints: \", complaints)\n",
    "print(\"Arrival Times: \", arrival_times)\n",
    "print(\"Daily Revenue: \", daily_revenue)\n"
   ]
  }
 ],
 "metadata": {
  "kernelspec": {
   "display_name": "Python 3",
   "language": "python",
   "name": "python3"
  },
  "language_info": {
   "codemirror_mode": {
    "name": "ipython",
    "version": 3
   },
   "file_extension": ".py",
   "mimetype": "text/x-python",
   "name": "python",
   "nbconvert_exporter": "python",
   "pygments_lexer": "ipython3",
   "version": "3.12.1"
  }
 },
 "nbformat": 4,
 "nbformat_minor": 2
}
